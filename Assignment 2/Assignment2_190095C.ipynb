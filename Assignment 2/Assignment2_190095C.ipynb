{
 "cells": [
  {
   "cell_type": "code",
   "execution_count": 24,
   "metadata": {},
   "outputs": [
    {
     "name": "stdout",
     "output_type": "stream",
     "text": [
      "[ -8.67447247  -4.51014391  -7.6899153    5.44553168  -0.41011641\n",
      "  -7.33683801  -9.75483615  -3.49989167  -7.29779861  -6.48865377\n",
      "   3.30211597   6.85612082  -9.77832576  -9.84340458   3.14914901\n",
      "   6.62409831  -0.26056993   1.95364305   9.90177352   3.89365452\n",
      "  -7.50014959   6.32438511  10.09208644   7.06328881   9.80718835\n",
      "   4.15501155  -4.26107848   9.91421681   1.2616966    8.45775557\n",
      "   2.89324428  -9.1524124    8.98666268   0.54401352   9.68287833\n",
      "  -6.6602279    9.89958788   9.44399927   5.4850336   -0.24688141\n",
      "   6.23000494  -6.91478915   3.47806785   4.71846394   4.0462117\n",
      "  -4.65853718 -11.00052475   9.10663514   8.00090809  -8.01812607]\n"
     ]
    }
   ],
   "source": [
    "import numpy as np\n",
    "from scipy.optimize import minimize\n",
    "from scipy import linalg\n",
    "import matplotlib.pyplot as plt\n",
    "# np . random . seed ( 0)\n",
    "N = 100\n",
    "half_n = N//2\n",
    "r = 10\n",
    "s = r /16\n",
    "t = np.random.uniform (0 , 2*np.pi , half_n )\n",
    "n = s*np.random.randn(half_n)\n",
    "x , y = (r+n)*np.cos(t),(r+n)*np.sin(t)\n",
    "print(x)\n",
    "X_circ = np.hstack((x.reshape(half_n , 1),y.reshape(half_n,1)))\n",
    "m, b = -1, 2\n",
    "x = np.linspace(-12, 12 , half_n)\n",
    "y = m*x + b + s*np.random.randn(half_n)\n",
    "X_line = np.hstack((x.reshape(half_n , 1),y.reshape(half_n , 1)))\n",
    "X = np.vstack((X_circ,X_line))"
   ]
  },
  {
   "cell_type": "code",
   "execution_count": 25,
   "metadata": {},
   "outputs": [
    {
     "data": {
      "text/plain": [
       "[<matplotlib.lines.Line2D at 0x1c090f84ac0>]"
      ]
     },
     "execution_count": 25,
     "metadata": {},
     "output_type": "execute_result"
    },
    {
     "data": {
      "image/png": "[encoded data removed]",
      "text/plain": [
       "<Figure size 432x288 with 1 Axes>"
      ]
     },
     "metadata": {
      "needs_background": "light"
     },
     "output_type": "display_data"
    }
   ],
   "source": [
    "plt.plot(X_circ[:,0],X_circ[:,1],'o',color='b')\n",
    "plt.plot(X_line[:,0],X_line[:,1],'o',color='r')\n"
   ]
  },
  {
   "cell_type": "code",
   "execution_count": 26,
   "metadata": {},
   "outputs": [
    {
     "data": {
      "text/plain": [
       "array([[ -8.67447247,  -5.38074965],\n",
       "       [ -4.51014391,  -9.70820099],\n",
       "       [ -7.6899153 ,  -5.57157609],\n",
       "       [  5.44553168,  -9.29312144],\n",
       "       [ -0.41011641,  -9.94246843],\n",
       "       [ -7.33683801,   6.10790601],\n",
       "       [ -9.75483615,   0.07816767],\n",
       "       [ -3.49989167,   8.7930901 ],\n",
       "       [ -7.29779861,   7.42174704],\n",
       "       [ -6.48865377,  -7.39353894],\n",
       "       [  3.30211597,   7.88143256],\n",
       "       [  6.85612082,   6.8348695 ],\n",
       "       [ -9.77832576,   3.68887304],\n",
       "       [ -9.84340458,   0.44486303],\n",
       "       [  3.14914901,  -9.28053328],\n",
       "       [  6.62409831,  -7.09089772],\n",
       "       [ -0.26056993,  -9.39091632],\n",
       "       [  1.95364305,   9.44634166],\n",
       "       [  9.90177352,  -0.48966199],\n",
       "       [  3.89365452,  -8.93622091],\n",
       "       [ -7.50014959,  -4.29445538],\n",
       "       [  6.32438511,   7.85497599],\n",
       "       [ 10.09208644,   0.9175571 ],\n",
       "       [  7.06328881,   6.24662131],\n",
       "       [  9.80718835,  -1.65936694],\n",
       "       [  4.15501155,  -7.83466228],\n",
       "       [ -4.26107848,   9.56612184],\n",
       "       [  9.91421681,   2.98583059],\n",
       "       [  1.2616966 ,  10.40240896],\n",
       "       [  8.45775557,  -6.61414177],\n",
       "       [  2.89324428,  10.05081694],\n",
       "       [ -9.1524124 ,   3.91731414],\n",
       "       [  8.98666268,   2.84940826],\n",
       "       [  0.54401352,  10.23762078],\n",
       "       [  9.68287833,  -4.24946186],\n",
       "       [ -6.6602279 ,   6.41736636],\n",
       "       [  9.89958788,   1.79382621],\n",
       "       [  9.44399927,  -0.10689552],\n",
       "       [  5.4850336 ,   7.96637331],\n",
       "       [ -0.24688141,  10.08399169],\n",
       "       [  6.23000494,   7.01783851],\n",
       "       [ -6.91478915,   5.82070159],\n",
       "       [  3.47806785,  -9.60096276],\n",
       "       [  4.71846394,   8.17462797],\n",
       "       [  4.0462117 ,   9.01611938],\n",
       "       [ -4.65853718,  -8.24498209],\n",
       "       [-11.00052475,   1.56904681],\n",
       "       [  9.10663514,   4.72802124],\n",
       "       [  8.00090809,  -5.27327627],\n",
       "       [ -8.01812607,  -5.81507702]])"
      ]
     },
     "execution_count": 26,
     "metadata": {},
     "output_type": "execute_result"
    }
   ],
   "source": [
    "X_circ"
   ]
  },
  {
   "cell_type": "code",
   "execution_count": 27,
   "metadata": {},
   "outputs": [
    {
     "name": "stdout",
     "output_type": "stream",
     "text": [
      "(-9.039509561193203, -9.89942971435314, 4.533400669156246)\n"
     ]
    }
   ],
   "source": [
    "import random\n",
    "# randomPoints = []\n",
    "# for i in range(3):\n",
    "#     randomPoints.append(random.randint(0,51))\n",
    "\n",
    "# randomPoints\n",
    "\n",
    "def RadiusAndCenter(randomPoints):\n",
    "\n",
    "    # taking 3 points\n",
    "    A_c =X_circ[randomPoints[0]]\n",
    "    B_c = X_circ[randomPoints[1]]\n",
    "    C_c = X_circ[randomPoints[2]]\n",
    "\n",
    "    middle_AB = [(A_c[0]+B_c[0])/2,(A_c[1]+B_c[1])/2] # take the middle point on AB line\n",
    "  \n",
    "    middle_BC = [(B_c[0]+C_c[0])/2,(B_c[1]+C_c[1])/2] # take the middle point on BC line\n",
    "   \n",
    "\n",
    "    if (B_c[1]-A_c[1])!=0 and (C_c[1]-B_c[1])!=0:\n",
    "        AB_perpendiular_gradient = -(B_c[0]-A_c[0])/(B_c[1]-A_c[1])       \n",
    "        BC_perpendiular_gradient = -(C_c[0]-B_c[0])/(C_c[1]-B_c[1])        \n",
    "\n",
    "        AB_perpendiular_C = middle_AB[1]-AB_perpendiular_gradient*middle_AB[0]        \n",
    "        BC_perpendiular_C = middle_BC[1]-BC_perpendiular_gradient*middle_BC[0]        \n",
    "\n",
    "        Center_X = (BC_perpendiular_C-AB_perpendiular_C)/(AB_perpendiular_gradient-BC_perpendiular_gradient)\n",
    "        Center_Y = AB_perpendiular_gradient*Center_X + AB_perpendiular_C\n",
    "\n",
    "    elif (B_c[1]-A_c[1])==0:\n",
    "        BC_perpendiular_gradient = -(C_c[0]-B_c[0])/(C_c[1]-B_c[1]) \n",
    "\n",
    "        BC_perpendiular_C = middle_BC[1]-BC_perpendiular_gradient*middle_BC[0]  \n",
    "\n",
    "        Center_Y = B_c[1]\n",
    "        Center_X = (Center_Y-BC_perpendiular_C)/BC_perpendiular_gradient\n",
    "\n",
    "    elif (C_c[1]-B_c[1])==0:\n",
    "        AB_perpendiular_gradient = -(B_c[0]-A_c[0])/(B_c[1]-A_c[1]) \n",
    "        AB_perpendiular_C = middle_AB[1]-AB_perpendiular_gradient*middle_AB[0] \n",
    "\n",
    "        Center_Y = B_c[1]\n",
    "        Center_X = (Center_Y-AB_perpendiular_C)/AB_perpendiular_gradient\n",
    "\n",
    "    radius = ((Center_Y-A_c[1])**2 + (Center_X-A_c[0])**2)**0.5\n",
    "\n",
    "    return Center_X,Center_Y,radius\n",
    "\n",
    "\n",
    "print(RadiusAndCenter([0,1,2]))\n",
    "\n",
    "\n"
   ]
  },
  {
   "cell_type": "code",
   "execution_count": 28,
   "metadata": {},
   "outputs": [
    {
     "name": "stdout",
     "output_type": "stream",
     "text": [
      "4.533400669156246\n"
     ]
    }
   ],
   "source": [
    "def DistanceBW2Pts(pt1,pt2):\n",
    "    return np.sqrt((pt2[1]-pt1[1])**2+(pt2[0]-pt1[0])**2)\n",
    "\n",
    "print(DistanceBW2Pts(RadiusAndCenter([0,1,2])[0:2],X_circ[0]))\n",
    "    "
   ]
  },
  {
   "cell_type": "code",
   "execution_count": 45,
   "metadata": {},
   "outputs": [
    {
     "name": "stderr",
     "output_type": "stream",
     "text": [
      "C:\\Users\\User\\AppData\\Local\\Temp\\ipykernel_12760\\46415721.py:27: RuntimeWarning: invalid value encountered in double_scalars\n",
      "  Center_X = (BC_perpendiular_C-AB_perpendiular_C)/(AB_perpendiular_gradient-BC_perpendiular_gradient)\n",
      "C:\\Users\\User\\AppData\\Local\\Temp\\ipykernel_12760\\46415721.py:31: RuntimeWarning: invalid value encountered in double_scalars\n",
      "  BC_perpendiular_gradient = -(C_c[0]-B_c[0])/(C_c[1]-B_c[1])\n"
     ]
    },
    {
     "name": "stdout",
     "output_type": "stream",
     "text": [
      "-0.24107051678300484\n"
     ]
    }
   ],
   "source": [
    "threshold = 0.5\n",
    "\n",
    "pointsList=[]\n",
    "countlist = []\n",
    "iterations = 1000\n",
    "for k in range(iterations):\n",
    "    count = 0\n",
    "    randomPoints = []\n",
    "    for i in range(3):\n",
    "        randomPoints.append(random.randint(0,49))\n",
    "    pointsList.append(randomPoints)\n",
    "    for j in range(50):\n",
    "        # print(DistanceBW2Pts(RadiusAndCenter(randomPoints)[0:2],X_circ[j]))\n",
    "        if abs(DistanceBW2Pts(RadiusAndCenter(randomPoints)[0:2],X_circ[j])-RadiusAndCenter(randomPoints)[2]) <= threshold:\n",
    "            count+=1\n",
    "    countlist.append(count)\n",
    "\n",
    "# print(countlist)\n",
    "# print(pointsList)\n",
    "\n",
    "pt =RadiusAndCenter(pointsList[countlist.index(max(countlist))])\n",
    "print(pt[0])\n",
    "    "
   ]
  },
  {
   "cell_type": "code",
   "execution_count": 55,
   "metadata": {},
   "outputs": [
    {
     "data": {
      "image/png": "[encoded data removed]",
      "text/plain": [
       "<Figure size 576x576 with 1 Axes>"
      ]
     },
     "metadata": {
      "needs_background": "light"
     },
     "output_type": "display_data"
    }
   ],
   "source": [
    "plt.figure(figsize=(8,8))\n",
    "plt.plot(X_circ[:,0],X_circ[:,1],'o',color='b')\n",
    "plt.plot(X_line[:,0],X_line[:,1],'o',color='r')\n",
    "circle = plt.Circle((pt[0],pt[1]),pt[2])\n",
    "# circle = plt.Circle((0,0),5)\n",
    "plt.gca().add_patch(circle)\n",
    "plt.show()"
   ]
  },
  {
   "cell_type": "code",
   "execution_count": null,
   "metadata": {},
   "outputs": [],
   "source": []
  }
 ],
 "metadata": {
  "interpreter": {
   "hash": "71a9e55ea9a4eb0ec0516cb2ecfe4cae1c555e7d5ef5085da43b83b5c34d74bd"
  },
  "kernelspec": {
   "display_name": "Python 3.10.2 64-bit (system)",
   "language": "python",
   "name": "python3"
  },
  "language_info": {
   "codemirror_mode": {
    "name": "ipython",
    "version": 3
   },
   "file_extension": ".py",
   "mimetype": "text/x-python",
   "name": "python",
   "nbconvert_exporter": "python",
   "pygments_lexer": "ipython3",
   "version": "3.10.2"
  },
  "orig_nbformat": 4
 },
 "nbformat": 4,
 "nbformat_minor": 2
}
