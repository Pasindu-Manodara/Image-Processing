{
 "cells": [
  {
   "cell_type": "code",
   "execution_count": 4,
   "metadata": {},
   "outputs": [
    {
     "name": "stdout",
     "output_type": "stream",
     "text": [
      "[ -8.84632692  -3.62804843  -9.76149962  -1.10556816   4.77480933\n",
      "  -9.61814495  -9.99623924   4.77574887   6.83082767   8.07813057\n",
      "  -1.09770818 -10.23014536   7.01555248   7.62911345  -8.63448081\n",
      "   1.54455014   8.83286996 -10.8938336    9.75016904   8.53998597\n",
      "   9.5547824    0.94675948   2.10233104  -5.65235872   9.35758848\n",
      "   7.99814479   5.675969    -9.22883154   1.37034972   2.21000565\n",
      "   3.53174221   7.11205367   7.17522914  -5.98920452  -8.57873826\n",
      "  -4.29010399   6.03134379   7.61073289   7.92765046 -11.46923944\n",
      "  -9.09686552  -2.58472541   8.43243425   2.83761017  -0.91181283\n",
      "  -2.93226561   0.10165466   3.65750068   1.31178576   0.79672154]\n"
     ]
    }
   ],
   "source": [
    "import numpy as np\n",
    "from scipy.optimize import minimize\n",
    "from scipy import linalg\n",
    "import matplotlib.pyplot as plt\n",
    "# np . random . seed ( 0)\n",
    "N = 100\n",
    "half_n = N//2\n",
    "r = 10\n",
    "s = r /16\n",
    "t = np.random.uniform (0 , 2*np.pi , half_n )\n",
    "n = s*np.random.randn(half_n)\n",
    "x , y = (r+n)*np.cos(t),(r+n)*np.sin(t)\n",
    "print(x)\n",
    "X_circ = np.hstack((x.reshape(half_n , 1),y.reshape(half_n,1)))\n",
    "m, b = -1, 2\n",
    "x = np.linspace(-12, 12 , half_n)\n",
    "y = m*x + b + s*np.random.randn(half_n)\n",
    "X_line = np.hstack((x.reshape(half_n , 1),y.reshape(half_n , 1)))\n",
    "X = np.vstack((X_circ,X_line))"
   ]
  },
  {
   "cell_type": "code",
   "execution_count": 16,
   "metadata": {},
   "outputs": [
    {
     "data": {
      "text/plain": [
       "[<matplotlib.lines.Line2D at 0x264d50b3370>]"
      ]
     },
     "execution_count": 16,
     "metadata": {},
     "output_type": "execute_result"
    },
    {
     "data": {
      "image/png": "[encoded data removed]",
      "text/plain": [
       "<Figure size 432x288 with 1 Axes>"
      ]
     },
     "metadata": {
      "needs_background": "light"
     },
     "output_type": "display_data"
    }
   ],
   "source": [
    "plt.plot(X_circ[:,0],X_circ[:,1],'o',color='b')\n",
    "plt.plot(X_line[:,0],X_line[:,1],'o',color='r')\n",
    "plt.Circle()"
   ]
  },
  {
   "cell_type": "code",
   "execution_count": 6,
   "metadata": {},
   "outputs": [
    {
     "data": {
      "text/plain": [
       "array([[-12.        ,  13.54503852],\n",
       "       [-11.51020408,  14.37451296],\n",
       "       [-11.02040816,  12.71262048],\n",
       "       [-10.53061224,  11.89838976],\n",
       "       [-10.04081633,  12.35707997],\n",
       "       [ -9.55102041,  12.41204469],\n",
       "       [ -9.06122449,  10.82953742],\n",
       "       [ -8.57142857,   9.54740247],\n",
       "       [ -8.08163265,  11.26009828],\n",
       "       [ -7.59183673,   9.92255491],\n",
       "       [ -7.10204082,   8.27244323],\n",
       "       [ -6.6122449 ,   8.5505974 ],\n",
       "       [ -6.12244898,   8.05707579],\n",
       "       [ -5.63265306,   8.58067138],\n",
       "       [ -5.14285714,   7.53366206],\n",
       "       [ -4.65306122,   5.95290443],\n",
       "       [ -4.16326531,   6.11013633],\n",
       "       [ -3.67346939,   5.66794773],\n",
       "       [ -3.18367347,   6.76121703],\n",
       "       [ -2.69387755,   3.40133414],\n",
       "       [ -2.20408163,   3.93837787],\n",
       "       [ -1.71428571,   3.54994665],\n",
       "       [ -1.2244898 ,   3.52817895],\n",
       "       [ -0.73469388,   2.90173611],\n",
       "       [ -0.24489796,   3.43304692],\n",
       "       [  0.24489796,   1.35635619],\n",
       "       [  0.73469388,   1.19567763],\n",
       "       [  1.2244898 ,   0.99808017],\n",
       "       [  1.71428571,  -0.04574451],\n",
       "       [  2.20408163,   0.9916395 ],\n",
       "       [  2.69387755,  -0.27387103],\n",
       "       [  3.18367347,  -0.56227723],\n",
       "       [  3.67346939,  -1.51692195],\n",
       "       [  4.16326531,  -1.21564806],\n",
       "       [  4.65306122,  -2.44598285],\n",
       "       [  5.14285714,  -3.30284327],\n",
       "       [  5.63265306,  -3.97008696],\n",
       "       [  6.12244898,  -3.74396619],\n",
       "       [  6.6122449 ,  -4.69516814],\n",
       "       [  7.10204082,  -5.00786119],\n",
       "       [  7.59183673,  -7.11223778],\n",
       "       [  8.08163265,  -5.37775589],\n",
       "       [  8.57142857,  -7.02753949],\n",
       "       [  9.06122449,  -6.06994484],\n",
       "       [  9.55102041,  -7.04791624],\n",
       "       [ 10.04081633,  -7.22382869],\n",
       "       [ 10.53061224,  -8.19643115],\n",
       "       [ 11.02040816,  -8.58999057],\n",
       "       [ 11.51020408,  -9.24357109],\n",
       "       [ 12.        ,  -9.82314819]])"
      ]
     },
     "execution_count": 6,
     "metadata": {},
     "output_type": "execute_result"
    }
   ],
   "source": [
    "X_line"
   ]
  },
  {
   "cell_type": "code",
   "execution_count": 7,
   "metadata": {},
   "outputs": [
    {
     "data": {
      "text/plain": [
       "array([[ -8.84632692,   5.94432711],\n",
       "       [ -3.62804843,   9.35827835],\n",
       "       [ -9.76149962,   1.71167647],\n",
       "       [ -1.10556816,   9.42363431],\n",
       "       [  4.77480933,  -8.56768682],\n",
       "       [ -9.61814495,   1.03962915],\n",
       "       [ -9.99623924,   0.68216558],\n",
       "       [  4.77574887,  -8.49252603],\n",
       "       [  6.83082767,  -7.39909264],\n",
       "       [  8.07813057,   4.2529973 ],\n",
       "       [ -1.09770818,  -9.96691057],\n",
       "       [-10.23014536,   3.87077624],\n",
       "       [  7.01555248,   8.43269886],\n",
       "       [  7.62911345,   5.51651159],\n",
       "       [ -8.63448081,   4.71325924],\n",
       "       [  1.54455014,  -9.41216049],\n",
       "       [  8.83286996,  -1.63018388],\n",
       "       [-10.8938336 ,   2.45323219],\n",
       "       [  9.75016904,   3.81838326],\n",
       "       [  8.53998597,   4.99654489],\n",
       "       [  9.5547824 ,  -3.19273503],\n",
       "       [  0.94675948, -10.77530129],\n",
       "       [  2.10233104,  -9.37325932],\n",
       "       [ -5.65235872,  -9.24364632],\n",
       "       [  9.35758848,  -3.0112461 ],\n",
       "       [  7.99814479,  -3.73407897],\n",
       "       [  5.675969  ,   8.67009691],\n",
       "       [ -9.22883154,  -2.31367677],\n",
       "       [  1.37034972,  -9.51852441],\n",
       "       [  2.21000565,   9.83337116],\n",
       "       [  3.53174221,   9.50393323],\n",
       "       [  7.11205367,  -6.35747392],\n",
       "       [  7.17522914,   5.98939989],\n",
       "       [ -5.98920452,  -8.52960093],\n",
       "       [ -8.57873826,  -3.6238355 ],\n",
       "       [ -4.29010399,  -9.1574229 ],\n",
       "       [  6.03134379,  -8.04199269],\n",
       "       [  7.61073289,   7.21968506],\n",
       "       [  7.92765046,   5.96055377],\n",
       "       [-11.46923944,  -3.28085914],\n",
       "       [ -9.09686552,   4.01006256],\n",
       "       [ -2.58472541,   9.40281862],\n",
       "       [  8.43243425,  -4.50498915],\n",
       "       [  2.83761017,   8.7209861 ],\n",
       "       [ -0.91181283,  -9.82487213],\n",
       "       [ -2.93226561,  10.9580647 ],\n",
       "       [  0.10165466, -10.5781431 ],\n",
       "       [  3.65750068,   9.31114646],\n",
       "       [  1.31178576,  -9.12450026],\n",
       "       [  0.79672154,   9.82641721],\n",
       "       [-12.        ,  13.54503852],\n",
       "       [-11.51020408,  14.37451296],\n",
       "       [-11.02040816,  12.71262048],\n",
       "       [-10.53061224,  11.89838976],\n",
       "       [-10.04081633,  12.35707997],\n",
       "       [ -9.55102041,  12.41204469],\n",
       "       [ -9.06122449,  10.82953742],\n",
       "       [ -8.57142857,   9.54740247],\n",
       "       [ -8.08163265,  11.26009828],\n",
       "       [ -7.59183673,   9.92255491],\n",
       "       [ -7.10204082,   8.27244323],\n",
       "       [ -6.6122449 ,   8.5505974 ],\n",
       "       [ -6.12244898,   8.05707579],\n",
       "       [ -5.63265306,   8.58067138],\n",
       "       [ -5.14285714,   7.53366206],\n",
       "       [ -4.65306122,   5.95290443],\n",
       "       [ -4.16326531,   6.11013633],\n",
       "       [ -3.67346939,   5.66794773],\n",
       "       [ -3.18367347,   6.76121703],\n",
       "       [ -2.69387755,   3.40133414],\n",
       "       [ -2.20408163,   3.93837787],\n",
       "       [ -1.71428571,   3.54994665],\n",
       "       [ -1.2244898 ,   3.52817895],\n",
       "       [ -0.73469388,   2.90173611],\n",
       "       [ -0.24489796,   3.43304692],\n",
       "       [  0.24489796,   1.35635619],\n",
       "       [  0.73469388,   1.19567763],\n",
       "       [  1.2244898 ,   0.99808017],\n",
       "       [  1.71428571,  -0.04574451],\n",
       "       [  2.20408163,   0.9916395 ],\n",
       "       [  2.69387755,  -0.27387103],\n",
       "       [  3.18367347,  -0.56227723],\n",
       "       [  3.67346939,  -1.51692195],\n",
       "       [  4.16326531,  -1.21564806],\n",
       "       [  4.65306122,  -2.44598285],\n",
       "       [  5.14285714,  -3.30284327],\n",
       "       [  5.63265306,  -3.97008696],\n",
       "       [  6.12244898,  -3.74396619],\n",
       "       [  6.6122449 ,  -4.69516814],\n",
       "       [  7.10204082,  -5.00786119],\n",
       "       [  7.59183673,  -7.11223778],\n",
       "       [  8.08163265,  -5.37775589],\n",
       "       [  8.57142857,  -7.02753949],\n",
       "       [  9.06122449,  -6.06994484],\n",
       "       [  9.55102041,  -7.04791624],\n",
       "       [ 10.04081633,  -7.22382869],\n",
       "       [ 10.53061224,  -8.19643115],\n",
       "       [ 11.02040816,  -8.58999057],\n",
       "       [ 11.51020408,  -9.24357109],\n",
       "       [ 12.        ,  -9.82314819]])"
      ]
     },
     "execution_count": 7,
     "metadata": {},
     "output_type": "execute_result"
    }
   ],
   "source": [
    "X"
   ]
  },
  {
   "cell_type": "code",
   "execution_count": 10,
   "metadata": {},
   "outputs": [
    {
     "data": {
      "text/plain": [
       "array([[ -8.84632692,   5.94432711],\n",
       "       [ -3.62804843,   9.35827835],\n",
       "       [ -9.76149962,   1.71167647],\n",
       "       [ -1.10556816,   9.42363431],\n",
       "       [  4.77480933,  -8.56768682],\n",
       "       [ -9.61814495,   1.03962915],\n",
       "       [ -9.99623924,   0.68216558],\n",
       "       [  4.77574887,  -8.49252603],\n",
       "       [  6.83082767,  -7.39909264],\n",
       "       [  8.07813057,   4.2529973 ],\n",
       "       [ -1.09770818,  -9.96691057],\n",
       "       [-10.23014536,   3.87077624],\n",
       "       [  7.01555248,   8.43269886],\n",
       "       [  7.62911345,   5.51651159],\n",
       "       [ -8.63448081,   4.71325924],\n",
       "       [  1.54455014,  -9.41216049],\n",
       "       [  8.83286996,  -1.63018388],\n",
       "       [-10.8938336 ,   2.45323219],\n",
       "       [  9.75016904,   3.81838326],\n",
       "       [  8.53998597,   4.99654489],\n",
       "       [  9.5547824 ,  -3.19273503],\n",
       "       [  0.94675948, -10.77530129],\n",
       "       [  2.10233104,  -9.37325932],\n",
       "       [ -5.65235872,  -9.24364632],\n",
       "       [  9.35758848,  -3.0112461 ],\n",
       "       [  7.99814479,  -3.73407897],\n",
       "       [  5.675969  ,   8.67009691],\n",
       "       [ -9.22883154,  -2.31367677],\n",
       "       [  1.37034972,  -9.51852441],\n",
       "       [  2.21000565,   9.83337116],\n",
       "       [  3.53174221,   9.50393323],\n",
       "       [  7.11205367,  -6.35747392],\n",
       "       [  7.17522914,   5.98939989],\n",
       "       [ -5.98920452,  -8.52960093],\n",
       "       [ -8.57873826,  -3.6238355 ],\n",
       "       [ -4.29010399,  -9.1574229 ],\n",
       "       [  6.03134379,  -8.04199269],\n",
       "       [  7.61073289,   7.21968506],\n",
       "       [  7.92765046,   5.96055377],\n",
       "       [-11.46923944,  -3.28085914],\n",
       "       [ -9.09686552,   4.01006256],\n",
       "       [ -2.58472541,   9.40281862],\n",
       "       [  8.43243425,  -4.50498915],\n",
       "       [  2.83761017,   8.7209861 ],\n",
       "       [ -0.91181283,  -9.82487213],\n",
       "       [ -2.93226561,  10.9580647 ],\n",
       "       [  0.10165466, -10.5781431 ],\n",
       "       [  3.65750068,   9.31114646],\n",
       "       [  1.31178576,  -9.12450026],\n",
       "       [  0.79672154,   9.82641721]])"
      ]
     },
     "execution_count": 10,
     "metadata": {},
     "output_type": "execute_result"
    }
   ],
   "source": [
    "X_circ"
   ]
  },
  {
   "cell_type": "code",
   "execution_count": 12,
   "metadata": {},
   "outputs": [
    {
     "data": {
      "text/plain": [
       "array([ -8.84632692,  -3.62804843,  -9.76149962,  -1.10556816,\n",
       "         4.77480933,  -9.61814495,  -9.99623924,   4.77574887,\n",
       "         6.83082767,   8.07813057,  -1.09770818, -10.23014536,\n",
       "         7.01555248,   7.62911345,  -8.63448081,   1.54455014,\n",
       "         8.83286996, -10.8938336 ,   9.75016904,   8.53998597,\n",
       "         9.5547824 ,   0.94675948,   2.10233104,  -5.65235872,\n",
       "         9.35758848,   7.99814479,   5.675969  ,  -9.22883154,\n",
       "         1.37034972,   2.21000565,   3.53174221,   7.11205367,\n",
       "         7.17522914,  -5.98920452,  -8.57873826,  -4.29010399,\n",
       "         6.03134379,   7.61073289,   7.92765046, -11.46923944,\n",
       "        -9.09686552,  -2.58472541,   8.43243425,   2.83761017,\n",
       "        -0.91181283,  -2.93226561,   0.10165466,   3.65750068,\n",
       "         1.31178576,   0.79672154])"
      ]
     },
     "execution_count": 12,
     "metadata": {},
     "output_type": "execute_result"
    }
   ],
   "source": []
  },
  {
   "cell_type": "code",
   "execution_count": null,
   "metadata": {},
   "outputs": [],
   "source": []
  }
 ],
 "metadata": {
  "interpreter": {
   "hash": "71a9e55ea9a4eb0ec0516cb2ecfe4cae1c555e7d5ef5085da43b83b5c34d74bd"
  },
  "kernelspec": {
   "display_name": "Python 3.10.2 64-bit (system)",
   "language": "python",
   "name": "python3"
  },
  "language_info": {
   "codemirror_mode": {
    "name": "ipython",
    "version": 3
   },
   "file_extension": ".py",
   "mimetype": "text/x-python",
   "name": "python",
   "nbconvert_exporter": "python",
   "pygments_lexer": "ipython3",
   "version": "3.10.2"
  },
  "orig_nbformat": 4
 },
 "nbformat": 4,
 "nbformat_minor": 2
}
